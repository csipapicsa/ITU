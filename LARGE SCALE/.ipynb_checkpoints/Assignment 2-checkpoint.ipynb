{
 "cells": [
  {
   "cell_type": "markdown",
   "id": "82b46dcd",
   "metadata": {},
   "source": [
    "'''1. Analyze business.json to find the total number of reviews for all businesses. The output\n",
    "should be in the formof a Spark DataFrame with one value representing the count.'''"
   ]
  },
  {
   "cell_type": "markdown",
   "id": "d97c7b6f",
   "metadata": {},
   "source": [
    "ssh gegy@130.226.142.166 -p 8022 -i sshkey\n",
    "pyspark"
   ]
  },
  {
   "cell_type": "code",
   "execution_count": null,
   "id": "baf4f9bb",
   "metadata": {},
   "outputs": [],
   "source": [
    "bdf = spark.read.json(\"/datasets/yelp/business.json\")\n",
    "\n",
    "# get the column names in the file\n",
    "\n",
    "bdf.agg({'review_count': 'sum'}).show()"
   ]
  },
  {
   "cell_type": "code",
   "execution_count": 3,
   "id": "e3e48362",
   "metadata": {},
   "outputs": [
    {
     "data": {
      "text/plain": [
       "'Analyze business.json to find all businesses that have received 5 stars and that have\\nbeen reviewed by 1000 or more users. The output should be in the formof DataFrame of\\n(name, stars, review count).'"
      ]
     },
     "execution_count": 3,
     "metadata": {},
     "output_type": "execute_result"
    }
   ],
   "source": [
    "'''Analyze business.json to find all businesses that have received 5 stars and that have\n",
    "been reviewed by 1000 or more users. The output should be in the formof DataFrame of\n",
    "(name, stars, review count).'''"
   ]
  },
  {
   "cell_type": "code",
   "execution_count": 4,
   "id": "f2c40c11",
   "metadata": {},
   "outputs": [
    {
     "ename": "NameError",
     "evalue": "name 'bdf' is not defined",
     "output_type": "error",
     "traceback": [
      "\u001b[1;31m---------------------------------------------------------------------------\u001b[0m",
      "\u001b[1;31mNameError\u001b[0m                                 Traceback (most recent call last)",
      "\u001b[1;32m~\\AppData\\Local\\Temp/ipykernel_16456/3652285480.py\u001b[0m in \u001b[0;36m<module>\u001b[1;34m\u001b[0m\n\u001b[1;32m----> 1\u001b[1;33m \u001b[0mbdft\u001b[0m \u001b[1;33m=\u001b[0m \u001b[0mbdf\u001b[0m\u001b[1;33m.\u001b[0m\u001b[0mfilter\u001b[0m\u001b[1;33m(\u001b[0m\u001b[1;34m'stars == 5 and review_count >= 1000'\u001b[0m\u001b[1;33m)\u001b[0m\u001b[1;33m\u001b[0m\u001b[1;33m\u001b[0m\u001b[0m\n\u001b[0m\u001b[0;32m      2\u001b[0m \u001b[1;33m\u001b[0m\u001b[0m\n\u001b[0;32m      3\u001b[0m \u001b[1;32mfrom\u001b[0m \u001b[0mpyspark\u001b[0m\u001b[1;33m.\u001b[0m\u001b[0msql\u001b[0m\u001b[1;33m.\u001b[0m\u001b[0mfunctions\u001b[0m \u001b[1;32mimport\u001b[0m \u001b[0mcol\u001b[0m\u001b[1;33m\u001b[0m\u001b[1;33m\u001b[0m\u001b[0m\n\u001b[0;32m      4\u001b[0m \u001b[1;33m\u001b[0m\u001b[0m\n\u001b[0;32m      5\u001b[0m \u001b[0mbdf\u001b[0m\u001b[1;33m.\u001b[0m\u001b[0mfilter\u001b[0m\u001b[1;33m(\u001b[0m\u001b[1;34m'stars == 5 and review_count >= 1000'\u001b[0m\u001b[1;33m)\u001b[0m\u001b[1;33m.\u001b[0m\u001b[0mselect\u001b[0m\u001b[1;33m(\u001b[0m\u001b[0mcol\u001b[0m\u001b[1;33m(\u001b[0m\u001b[1;34m\"name\"\u001b[0m\u001b[1;33m)\u001b[0m\u001b[1;33m,\u001b[0m\u001b[0mcol\u001b[0m\u001b[1;33m(\u001b[0m\u001b[1;34m\"stars\"\u001b[0m\u001b[1;33m)\u001b[0m\u001b[1;33m,\u001b[0m\u001b[0mcol\u001b[0m\u001b[1;33m(\u001b[0m\u001b[1;34m\"review_count\"\u001b[0m\u001b[1;33m)\u001b[0m\u001b[1;33m)\u001b[0m\u001b[1;33m.\u001b[0m\u001b[0mshow\u001b[0m\u001b[1;33m(\u001b[0m\u001b[1;33m)\u001b[0m\u001b[1;33m\u001b[0m\u001b[1;33m\u001b[0m\u001b[0m\n",
      "\u001b[1;31mNameError\u001b[0m: name 'bdf' is not defined"
     ]
    }
   ],
   "source": [
    "bdft = bdf.filter('stars == 5 and review_count >= 1000')\n",
    "\n",
    "from pyspark.sql.functions import col\n",
    "\n",
    "bdf.filter('stars == 5 and review_count >= 1000').select(col(\"name\"),col(\"stars\"),col(\"review_count\")).show()"
   ]
  },
  {
   "cell_type": "code",
   "execution_count": 5,
   "id": "f991b8ec",
   "metadata": {},
   "outputs": [
    {
     "data": {
      "text/plain": [
       "'Analyze user.json to find the influencerswho have writtenmore than 1000 reviews. The\\noutput should be in the formof DataFrame of user id.'"
      ]
     },
     "execution_count": 5,
     "metadata": {},
     "output_type": "execute_result"
    }
   ],
   "source": [
    "'''Analyze user.json to find the influencerswho have writtenmore than 1000 reviews. The\n",
    "output should be in the formof DataFrame of user id.'''"
   ]
  },
  {
   "cell_type": "code",
   "execution_count": 6,
   "id": "d0d8f299",
   "metadata": {},
   "outputs": [
    {
     "ename": "NameError",
     "evalue": "name 'spark' is not defined",
     "output_type": "error",
     "traceback": [
      "\u001b[1;31m---------------------------------------------------------------------------\u001b[0m",
      "\u001b[1;31mNameError\u001b[0m                                 Traceback (most recent call last)",
      "\u001b[1;32m~\\AppData\\Local\\Temp/ipykernel_16456/2095000248.py\u001b[0m in \u001b[0;36m<module>\u001b[1;34m\u001b[0m\n\u001b[1;32m----> 1\u001b[1;33m \u001b[0mudf\u001b[0m \u001b[1;33m=\u001b[0m \u001b[0mspark\u001b[0m\u001b[1;33m.\u001b[0m\u001b[0mread\u001b[0m\u001b[1;33m.\u001b[0m\u001b[0mjson\u001b[0m\u001b[1;33m(\u001b[0m\u001b[1;34m\"/datasets/yelp/user.json\"\u001b[0m\u001b[1;33m)\u001b[0m\u001b[1;33m\u001b[0m\u001b[1;33m\u001b[0m\u001b[0m\n\u001b[0m\u001b[0;32m      2\u001b[0m \u001b[1;33m\u001b[0m\u001b[0m\n\u001b[0;32m      3\u001b[0m \u001b[0mudf\u001b[0m\u001b[1;33m.\u001b[0m\u001b[0mfilter\u001b[0m\u001b[1;33m(\u001b[0m\u001b[1;34m'review_count > 1000'\u001b[0m\u001b[1;33m)\u001b[0m\u001b[1;33m.\u001b[0m\u001b[0mselect\u001b[0m\u001b[1;33m(\u001b[0m\u001b[0mcol\u001b[0m\u001b[1;33m(\u001b[0m\u001b[1;34m\"user_id\"\u001b[0m\u001b[1;33m)\u001b[0m\u001b[1;33m)\u001b[0m\u001b[1;33m.\u001b[0m\u001b[0mshow\u001b[0m\u001b[1;33m(\u001b[0m\u001b[1;33m)\u001b[0m\u001b[1;33m\u001b[0m\u001b[1;33m\u001b[0m\u001b[0m\n",
      "\u001b[1;31mNameError\u001b[0m: name 'spark' is not defined"
     ]
    }
   ],
   "source": [
    "udf = spark.read.json(\"/datasets/yelp/user.json\")\n",
    "\n",
    "udf.filter('review_count > 1000').select(col(\"user_id\")).show()\n",
    "\n",
    "udfres = udf.filter('review_count > 1000').select(col(\"user_id\"))"
   ]
  },
  {
   "cell_type": "code",
   "execution_count": 7,
   "id": "ae5827a6",
   "metadata": {},
   "outputs": [
    {
     "data": {
      "text/plain": [
       "'Analyze review.json, business.json, and a view created from your answer to Q3 to\\nfind the businesses that have been reviewed by more than 5 influencer users.'"
      ]
     },
     "execution_count": 7,
     "metadata": {},
     "output_type": "execute_result"
    }
   ],
   "source": [
    "'''Analyze review.json, business.json, and a view created from your answer to Q3 to\n",
    "find the businesses that have been reviewed by more than 5 influencer users.'''"
   ]
  },
  {
   "cell_type": "code",
   "execution_count": null,
   "id": "29204d57",
   "metadata": {},
   "outputs": [],
   "source": [
    "rdf = spark.read.json(\"/datasets/yelp/review.json\") # contains the reviews \n",
    "# rdf.schema.names\n",
    "# rdf business_id, review_id ,user_id\n",
    "# rdf.count() - 6685900 \n",
    "# bdf.count() - 192609 # business_id\n",
    "\n",
    "# udfr # 1420\n",
    "df_bus_merge = rdf.join(bdf,['business_id'],how='inner')\n",
    "# df_bus_merge.count() # 6685900\n",
    "# df_bus_merge.schema.names\n",
    "df_merged = df_bus_merge.join(udfres,['user_id'],how='inner')\n",
    "# df_merged.count() 133576\n",
    "df_merged_count = df_merged.groupBy('business_id').count()\n",
    "#\n",
    "df_merged_count.filter('count > 5').show()"
   ]
  },
  {
   "cell_type": "code",
   "execution_count": 8,
   "id": "9211e144",
   "metadata": {},
   "outputs": [
    {
     "data": {
      "text/plain": [
       "'Analyze review.json and user.json to find an ordered list of users based on the average\\nstar counts they have given in all their reviews.'"
      ]
     },
     "execution_count": 8,
     "metadata": {},
     "output_type": "execute_result"
    }
   ],
   "source": [
    "'''Analyze review.json and user.json to find an ordered list of users based on the average\n",
    "star counts they have given in all their reviews.'''"
   ]
  },
  {
   "cell_type": "code",
   "execution_count": null,
   "id": "686effc2",
   "metadata": {},
   "outputs": [],
   "source": [
    "# rdf.count() - 6685900 \n",
    "# udf.count() - 1637138\n",
    "# udf.schema.names # average_stars\n",
    "# udf.select(\"average_stars\").show()\n",
    "# I dont think the review.json is necceserry here since users df contains the average stars\n",
    "rdf.show()\n",
    "u_temp = udf.sort(col(\"average_stars\").desc())\n",
    "# I made a new df since if you print it it looks like a mess\n",
    "u_temp.select(col(\"average_stars\"),col(\"user_id\")).show()"
   ]
  },
  {
   "cell_type": "code",
   "execution_count": null,
   "id": "7274a311",
   "metadata": {},
   "outputs": [],
   "source": []
  },
  {
   "cell_type": "markdown",
   "id": "c27e5f56",
   "metadata": {},
   "source": [
    "## 3.2.1 Data Exploration"
   ]
  },
  {
   "cell_type": "markdown",
   "id": "e50718ca",
   "metadata": {},
   "source": [
    "What is the percentage of reviews containing a variant of the word \"authentic\"? How\n",
    "many reviews contain the string \"legitimate\" grouped by businesses type (type of cuisine)?"
   ]
  },
  {
   "attachments": {
    "image.png": {
     "image/png": "[encoded data removed]"
    }
   },
   "cell_type": "markdown",
   "id": "f8ee442f",
   "metadata": {},
   "source": [
    "PROBLEM: No \"cusine type\"  or \"business type\" in the dataset\n",
    "![image.png](attachment:image.png)"
   ]
  },
  {
   "cell_type": "code",
   "execution_count": null,
   "id": "68b96229",
   "metadata": {},
   "outputs": [],
   "source": [
    "# a\n",
    "rdf = spark.read.json(\"/datasets/yelp/review.json\")\n",
    "rdf.createOrReplaceTempView(\"reviews\")\n",
    "bdf = spark.read.json(\"/datasets/yelp/business.json\")\n",
    "bdf.createOrReplaceTempView(\"business\")\n",
    "\n",
    "# \n",
    "bdf.select(col(\"categories\")).show()\n",
    "\n",
    "# example line \n",
    "rsql_df = spark.sql(\"SELECT * FROM reviews WHERE funny = 5\") # this is just an exaple\n",
    "rsql_df.select(col(\"funny\"),col(\"user_id\")).show()\n",
    "\n",
    "\n",
    "# Solution\n",
    "df1 = spark.sql(\"SELECT * FROM reviews\")\n",
    "df1.schema.names\n",
    "df2 = spark.sql(\"SELECT * FROM reviews WHERE text LIKE '%authentic%'\")\n",
    "# its super sloooooooowwwww, how can I add these to variables ? \n",
    "print(\"Ratio of reviews which contains 'authetnic' is \", df1.count() / df2.count())\n",
    "\n",
    "\n",
    "\n",
    "# solution 2 # its not gooooood\n",
    "all_reviews_count = spark.sql(\"SELECT count(*) FROM reviews\")\n",
    "auth_reviews_count = spark.sql(\"SELECT count(*) FROM reviews WHERE text LIKE '%authentic%'\")\n",
    "# still super sloooow \n",
    "t = spark.sql(\"SET @res = (SELECT count(*) FROM reviews)\")\n",
    "\n",
    "############################################################## b\n",
    "# merge\n",
    "df = rdf.join(bdf,['business_id'],how='inner')\n",
    "df.createOrReplaceTempView(\"rewBusiness\")\n",
    "# res is not good, since categories contains list of strings, so I dont know how should we split them by \"cusion type \"\n",
    "res = spark.sql(\"SELECT R.categories, count(R.review_id) FROM rewBusiness R WHERE R.text LIKE '%legitimate%' GROUP BY R.categories\")\n",
    "res = df3.agg({\"count(review_id)\":\"sum\"}).collect()\n",
    "print(res) #??? seems good."
   ]
  },
  {
   "cell_type": "code",
   "execution_count": null,
   "id": "3a5f498b",
   "metadata": {},
   "outputs": [],
   "source": [
    "ddd = spark.read.format(\"json\").option(\"inferSchema\", \"true\").option(\"multiLine\", \"true\").load(\"/datasets/yelp/business.json\")"
   ]
  },
  {
   "cell_type": "code",
   "execution_count": null,
   "id": "2b74fb89",
   "metadata": {},
   "outputs": [],
   "source": [
    "categories = bdf.select(\"categories\").rdd.flatMap(lambda x: x).collect()\n",
    "\n",
    "c_l = []\n",
    "for i in categories:\n",
    "    try:\n",
    "        for c in i.split(\", \"):\n",
    "            c_l.append(c)\n",
    "    except:\n",
    "        continue\n",
    "\n",
    "c = Counter(c_l)\n",
    "print(c.most_common(10))\n",
    "\n",
    "#\n",
    "from pyspark.sql.functions import split, explode\n",
    "\n",
    "bdf2 = bdf.withColumn('cat_new',explode(split('categories',', ')))\n",
    "\n",
    "bdf2.select(col('cat_new')).show()\n",
    "\n",
    "rews = spark.sql(\"SELECT * FROM reviews WHERE text LIKE '%legitimate%'\")\n",
    "\n",
    ">>> rews.schema.names\n",
    "# rews.count() --- 4578\n",
    "# ['business_id', 'cool', 'date', 'funny', 'review_id', 'stars', 'text', 'useful', 'user_id']\n",
    "bdf2.schema.names\n",
    "#['address', 'attributes', 'business_id', 'categories', 'city', \n",
    "# 'hours', 'is_open', 'latitude', 'longitude', 'name', 'postal_code', 'review_count', 'stars', 'state', 'cat_new']\n",
    "# bdf2.count() -- 788359\n",
    "merge =  = rews.join(bdf2,['business_id'],how='inner')\n",
    "# merge.count() -- 21663\n",
    "\n",
    "categories = merge.select(\"cat_new\").rdd.flatMap(lambda x: x).collect()\n",
    "\n",
    "from collections import Counter\n",
    "c_l = []\n",
    "for i in categories:\n",
    "    c_l.append(i)\n",
    "\n",
    "c = Counter(c_l)\n",
    "print(c.most_common(40))\n",
    "\n",
    "\" Answer RAW\"\n",
    "# [('Restaurants', 2250), ('Food', 829), ('Nightlife', 750), ('Bars', 661), ('Shopping', 419), ('Event Planning & Services', 390), ('Home Services', 379), ('American (New)', 360), ('Arts & Entertainment', 337), ('American (Traditional)', 323), ('Hotels & Travel', 319), ('Automotive', 316), ('Breakfast & Brunch', 309), ('Beauty & Spas', 307), ('Health & Medical', 280), ('Sandwiches', 238), ('Pizza', 217), ('Italian', 209), ('Mexican', 207), ('Local Services', 203)]\n",
    ">>> print(c.most_common(40))\n",
    "[('Restaurants', 2250), ('Food', 829), ('Nightlife', 750), ('Bars', 661), ('Shopping', 419), \n",
    " ('Event Planning & Services', 390), ('Home Services', 379), ('American (New)', 360), \n",
    " ('Arts & Entertainment', 337), ('American (Traditional)', 323), \n",
    " ('Hotels & Travel', 319), ('Automotive', 316), ('Breakfast & Brunch', 309), \n",
    " ('Beauty & Spas', 307), ('Health & Medical', 280), ('Sandwiches', 238), \n",
    " ('Pizza', 217), ('Italian', 209), ('Mexican', 207), ('Local Services', 203), \n",
    " ('Active Life', 196), ('Coffee & Tea', 194), ('Hotels', 189), ('Burgers', 180), \n",
    " ('Auto Repair', 172), ('Japanese', 166), ('Seafood', 157), ('Real Estate', 152), \n",
    " ('Sushi Bars', 137), ('Chinese', 136), ('Desserts', 133), ('Asian Fusion', 130), \n",
    " ('Specialty Food', 126), ('Lounges', 124), ('Professional Services', 123), \n",
    " ('Steakhouses', 116), ('Cafes', 114), ('Doctors', 114), ('Casinos', 110), ('Wine & Spirits', 109)]\n",
    "\n",
    "restaurrant_categories = \n",
    "'Breakfast & Brunch'\n",
    "'Sandwiches'\n",
    "'Coffee & Tea'\n",
    "'Burgers'\n",
    "'Seafood'\n",
    "'Sushi Bars'\n",
    "'Steakhouses'\n",
    "\n",
    "cousine_types = [\n",
    "'American (New)',\n",
    "'American (Traditional)',\n",
    "'Italian',\n",
    "'Mexican',\n",
    "'Japanese',\n",
    "'Chinese',\n",
    "'Thai',\n",
    "'Indian',\n",
    "'French',\n",
    "'Korean',\n",
    "'Mediterranean',\n",
    "'Soul']\n",
    "\n",
    "m = merge.filter(merge.cat_new.isin(cousine_types))\n",
    "m.groupBy(\"cat_new\").count().show()"
   ]
  },
  {
   "cell_type": "markdown",
   "id": "b03a1d1b",
   "metadata": {},
   "source": [
    "Is there a difference in the amount of authenticity language used in the different areas?\n",
    "(e.g., by state, north/south, urban/rural)\n",
    "Note: As part of answering this question, you should compute the full cube combining\n",
    "the location of the business and whether the review contains authenticity language, and\n",
    "use this to aggregate their counts per state and city."
   ]
  },
  {
   "cell_type": "code",
   "execution_count": null,
   "id": "f09ddd27",
   "metadata": {},
   "outputs": [],
   "source": [
    "rdf = spark.read.json(\"/datasets/yelp/review.json\")\n",
    "rdf.createOrReplaceTempView(\"reviews\")\n",
    "bdf = spark.read.json(\"/datasets/yelp/business.json\")\n",
    "bdf.createOrReplaceTempView(\"business\")\n",
    "\n",
    "rdf_a = spark.sql(\"SELECT * FROM reviews WHERE text LIKE '%authentic%' OR text LIKE '%legitimate%' OR text LIKE '%accent%'\")\n",
    "# count = 121075\n",
    "bdf = spark.sql(\"SELECT * FROM business WHERE state IS NOT NULL OR city IS NOT NULL\")\n",
    "\n",
    "merge_auth = rdf_a.join(bdf,['business_id'],how='inner')\n",
    "# res = merge.groupBy(\"state\",\"city\").agg({'review_id': 'sum'}).collect()\n",
    "auth_df = merge_auth.cube(\"state\").count().orderBy(\"state\") # it can have multipe columns, I just skipped it\n",
    "auth_df = auth_df.withColumnRenamed(\"count\",\"auth_lan_count\")\n",
    "auth_df = auth_df.withColumnRenamed(\"state\",\"state_auth\")\n",
    "\n",
    "# sec part\n",
    "rdf = spark.sql(\"SELECT * FROM reviews\")\n",
    "# count 6685900\n",
    "merge_all = rdf.join(bdf,['business_id'],how='inner')\n",
    "all_r = merge_all.cube(\"state\").count().orderBy(\"state\") # it can have multipe columns, I just skipped it\n",
    "all_r = all_r.withColumnRenamed(\"count\",\"all_lan_count\")\n",
    "\n",
    "all_r.show()\n",
    "auth_df.show()\n",
    "\n",
    "#uni = all_r.union(auth_df).distinct()\n",
    "# all_r.join(auth_df,all_r.state ==  auth_df.state,\"fullouter\").show(truncate=False)\n",
    "join = all_r.join(auth_df,all_r.state ==  auth_df.state_auth,\"fullouter\")\n",
    "join = join.fillna(0, subset=['all_lan_count'])\\\n",
    "       .fillna(0, subset=['auth_lan_count'])\n",
    "\n",
    "from pyspark.sql.functions import coalesce\n",
    "from pyspark.sql.functions import col\n",
    "from pyspark.sql.functions import lit\n",
    "#join = join.withColumn('Ratio of using auth language compared to all review', coalesce(col('auth_lan_count'), lit(0)) / coalesce(col('all_lan_count'), lit(1)))\n",
    "join = join.withColumn('Ratio', (coalesce(col('auth_lan_count'), lit(0)) / coalesce(col('all_lan_count'), lit(1))*100))\n",
    "\n",
    "print(\"Result of ratio of using authenticity language compared to all review in state level\")\n",
    "join.sort(join.Ratio.desc()).show(truncate=False)"
   ]
  },
  {
   "cell_type": "code",
   "execution_count": null,
   "id": "3a9adfe7",
   "metadata": {},
   "outputs": [],
   "source": [
    "[('Restaurants', 2250), ('Food', 829), ('Nightlife', 750), ('Bars', 661), ('Shopping', 419), \n",
    " ('Event Planning & Services', 390), ('Home Services', 379), ('American (New)', 360), \n",
    " ('Arts & Entertainment', 337), ('American (Traditional)', 323), ('Hotels & Travel', 319), \n",
    " ('Automotive', 316), ('Breakfast & Brunch', 309), ('Beauty & Spas', 307), ('Health & Medical', 280),\n",
    " ('Sandwiches', 238), ('Pizza', 217), ('Italian', 209), ('Mexican', 207), ('Local Services', 203), \n",
    " ('Active Life', 196), ('Coffee & Tea', 194), ('Hotels', 189), ('Burgers', 180), \n",
    " ('Auto Repair', 172), ('Japanese', 166), ('Seafood', 157), ('Real Estate', 152), \n",
    " ('Sushi Bars', 137), ('Chinese', 136), ('Desserts', 133), ('Asian Fusion', 130), \n",
    " ('Specialty Food', 126), ('Lounges', 124), ('Professional Services', 123), \n",
    " ('Steakhouses', 116), ('Cafes', 114), ('Doctors', 114), ('Casinos', 110), \n",
    " ('Wine & Spirits', 109), ('Beer', 109), ('Barbeque', 108), ('Salad', 108), \n",
    " ('Bakeries', 108), ('Car Dealers', 105), ('Fast Food', 103), ('Pubs', 102), \n",
    " ('Cocktail Bars', 101), ('Massage', 93), ('Sports Bars', 93), ('Caterers', 90), \n",
    " ('Venues & Event Spaces', 89), ('Home & Garden', 86), ('Day Spas', 85), \n",
    " ('Vegetarian', 82), ('Music Venues', 80), ('Fitness & Instruction', 80),\n",
    " ('Hair Salons', 79), ('Fashion', 79), ('Apartments', 77), ('Pets', 77), \n",
    " ('Vegan', 76), ('Wine Bars', 74), ('Mediterranean', 74), ('Chicken Wings', 74), \n",
    " ('Local Flavor', 73), ('Dance Clubs', 73), ('Oil Change Stations', 70), \n",
    " ('Thai', 68), ('Buffets', 67), ('Auto Parts & Supplies', 67),\n",
    " ('Juice Bars & Smoothies', 65), ('Diners', 64), ('Financial Services', 63), \n",
    " ('Resorts', 61), ('Delis', 60), ('Grocery', 59), ('Korean', 59), \n",
    " ('Ice Cream & Frozen Yogurt', 58), ('Gastropubs', 58), ('Nail Salons', 58), \n",
    " ('Gluten-Free', 55), ('Performing Arts', 54), ('Hair Removal', 54), \n",
    " ('Skin Care', 54), ('Canadian (New)', 54), ('Vietnamese', 53), \n",
    " ('Gyms', 52), ('Medical Centers', 51), ('Tires', 49), \n",
    " ('Contractors', 49), ('Pet Services', 48), ('Transportation', 47), \n",
    " ('Education', 47), ('French', 47), ('Indian', 46), \n",
    " ('Car Rental', 46), ('Noodles', 45), ('Ethnic Food', 45), ('Soup', 44)]"
   ]
  },
  {
   "cell_type": "code",
   "execution_count": null,
   "id": "58238303",
   "metadata": {},
   "outputs": [],
   "source": [
    "        \n",
    "rdd=spark.sparkContext.parallelize(categories)\n",
    "print(rdd.take(1))\n",
    "rdd2=rdd.flatMap(lambda x: x.split(\", \"))\n",
    "print(rdd2.take(1))\n",
    "rdd3=rdd2.flatMap(lambda x: x.split(\", \"))\n",
    "list_of_categories = []\n",
    "for element in rdd.collect():\n",
    "    list_of_categories.append(element)\n",
    "c = 0\n",
    "\n",
    "for i in list_of_categories:\n",
    "    if len(i) == 0:\n",
    "        continue\n",
    "        c +=1\n",
    "    else:\n",
    "        print(c)\n",
    "        print(i.split())\n",
    "        c +=1\n",
    "        \n",
    "        \n",
    "\n",
    "for i in categories:\n",
    "    try:\n",
    "        print(i.split(\", \"))\n",
    "    except:\n",
    "        continue\n",
    "    \n",
    "        \n",
    "        \n",
    "from collections import Counter\n",
    "l = []\n",
    "for i in categories:\n",
    "    t = str(i)\n",
    "    for c in t.split(\",\"):\n",
    "        l.append(c)\n",
    "        \n",
    "c = Counter(l)\n",
    "print(c.most_common(40))\n",
    "\n",
    "\n",
    "rdd=spark.sparkContext.parallelize(bdf.select(col(\"categories\")))"
   ]
  },
  {
   "cell_type": "code",
   "execution_count": null,
   "id": "e7593f32",
   "metadata": {},
   "outputs": [],
   "source": [
    "rdd2=bdf.select(col(\"categories\")).flatMap(lambda x: x.split(\" \"))\n",
    "for element in rdd2.collect():\n",
    "    print(element)"
   ]
  },
  {
   "cell_type": "code",
   "execution_count": 12,
   "id": "eb695fc7",
   "metadata": {},
   "outputs": [
    {
     "data": {
      "text/plain": [
       "\"How many reviews contain the string 'legitimate' grouped by restaurant categories?\""
      ]
     },
     "execution_count": 12,
     "metadata": {},
     "output_type": "execute_result"
    }
   ],
   "source": [
    "\"How many reviews contain the string 'legitimate' grouped by restaurant categories?\"\n",
    "# since categories are a list of strings ( check above ) I dont know how should I handle this question"
   ]
  },
  {
   "cell_type": "code",
   "execution_count": 10,
   "id": "b84f65e9",
   "metadata": {},
   "outputs": [
    {
     "ename": "AttributeError",
     "evalue": "'list' object has no attribute 'split'",
     "output_type": "error",
     "traceback": [
      "\u001b[1;31m---------------------------------------------------------------------------\u001b[0m",
      "\u001b[1;31mAttributeError\u001b[0m                            Traceback (most recent call last)",
      "\u001b[1;32m~\\AppData\\Local\\Temp/ipykernel_7212/3183944655.py\u001b[0m in \u001b[0;36m<module>\u001b[1;34m\u001b[0m\n\u001b[0;32m      1\u001b[0m \u001b[0ms\u001b[0m \u001b[1;33m=\u001b[0m \u001b[1;33m[\u001b[0m\u001b[1;34m\"he, word\"\u001b[0m\u001b[1;33m]\u001b[0m\u001b[1;33m\u001b[0m\u001b[1;33m\u001b[0m\u001b[0m\n\u001b[1;32m----> 2\u001b[1;33m \u001b[0ms\u001b[0m\u001b[1;33m.\u001b[0m\u001b[0msplit\u001b[0m\u001b[1;33m(\u001b[0m\u001b[1;34m\",\"\u001b[0m\u001b[1;33m)\u001b[0m\u001b[1;33m\u001b[0m\u001b[1;33m\u001b[0m\u001b[0m\n\u001b[0m",
      "\u001b[1;31mAttributeError\u001b[0m: 'list' object has no attribute 'split'"
     ]
    }
   ],
   "source": [
    "s = [\"he, word\"]\n",
    "s.split(\",\")"
   ]
  },
  {
   "cell_type": "code",
   "execution_count": 14,
   "id": "f56144de",
   "metadata": {},
   "outputs": [
    {
     "name": "stdout",
     "output_type": "stream",
     "text": [
      "he\n",
      "word\n"
     ]
    }
   ],
   "source": [
    "for i in s:\n",
    "    t = str(i)\n",
    "    for c in t.split(\", \"):\n",
    "        print(c)"
   ]
  },
  {
   "cell_type": "code",
   "execution_count": 16,
   "id": "dc60a1d4",
   "metadata": {},
   "outputs": [
    {
     "data": {
      "text/html": [
       "<div>\n",
       "<style scoped>\n",
       "    .dataframe tbody tr th:only-of-type {\n",
       "        vertical-align: middle;\n",
       "    }\n",
       "\n",
       "    .dataframe tbody tr th {\n",
       "        vertical-align: top;\n",
       "    }\n",
       "\n",
       "    .dataframe thead th {\n",
       "        text-align: right;\n",
       "    }\n",
       "</style>\n",
       "<table border=\"1\" class=\"dataframe\">\n",
       "  <thead>\n",
       "    <tr style=\"text-align: right;\">\n",
       "      <th></th>\n",
       "      <th>x</th>\n",
       "      <th>x_number</th>\n",
       "      <th>y</th>\n",
       "      <th>y_number</th>\n",
       "    </tr>\n",
       "  </thead>\n",
       "  <tbody>\n",
       "    <tr>\n",
       "      <th>0</th>\n",
       "      <td>a</td>\n",
       "      <td>2.0</td>\n",
       "      <td>NaN</td>\n",
       "      <td>NaN</td>\n",
       "    </tr>\n",
       "    <tr>\n",
       "      <th>1</th>\n",
       "      <td>b</td>\n",
       "      <td>1.0</td>\n",
       "      <td>NaN</td>\n",
       "      <td>NaN</td>\n",
       "    </tr>\n",
       "    <tr>\n",
       "      <th>2</th>\n",
       "      <td>c</td>\n",
       "      <td>2.0</td>\n",
       "      <td>NaN</td>\n",
       "      <td>NaN</td>\n",
       "    </tr>\n",
       "    <tr>\n",
       "      <th>3</th>\n",
       "      <td>e</td>\n",
       "      <td>1.0</td>\n",
       "      <td>NaN</td>\n",
       "      <td>NaN</td>\n",
       "    </tr>\n",
       "    <tr>\n",
       "      <th>4</th>\n",
       "      <td>d</td>\n",
       "      <td>1.0</td>\n",
       "      <td>NaN</td>\n",
       "      <td>NaN</td>\n",
       "    </tr>\n",
       "    <tr>\n",
       "      <th>0</th>\n",
       "      <td>NaN</td>\n",
       "      <td>NaN</td>\n",
       "      <td>h</td>\n",
       "      <td>2.0</td>\n",
       "    </tr>\n",
       "    <tr>\n",
       "      <th>1</th>\n",
       "      <td>NaN</td>\n",
       "      <td>NaN</td>\n",
       "      <td>j</td>\n",
       "      <td>3.0</td>\n",
       "    </tr>\n",
       "  </tbody>\n",
       "</table>\n",
       "</div>"
      ],
      "text/plain": [
       "     x  x_number    y  y_number\n",
       "0    a       2.0  NaN       NaN\n",
       "1    b       1.0  NaN       NaN\n",
       "2    c       2.0  NaN       NaN\n",
       "3    e       1.0  NaN       NaN\n",
       "4    d       1.0  NaN       NaN\n",
       "0  NaN       NaN    h       2.0\n",
       "1  NaN       NaN    j       3.0"
      ]
     },
     "execution_count": 16,
     "metadata": {},
     "output_type": "execute_result"
    }
   ],
   "source": [
    "from matplotlib.cbook import flatten\n",
    "from collections import Counter\n",
    "import pandas as pd\n",
    "din={'x':[['a','b','c'],['a','e','d', 'c']], 'y': [['h','j'],['h','j','j']]}\n",
    "\n",
    "def foo(x):\n",
    "    df = pd.DataFrame()\n",
    "    for a,i in x.items() :\n",
    "        u=pd.DataFrame.from_dict(dict(Counter([*flatten(i)])), orient ='index').reset_index().rename(columns ={'index':a,0:str(a)+'_number'})\n",
    "        df=pd.concat([df,u])\n",
    "    return df\n",
    "foo(din)"
   ]
  },
  {
   "cell_type": "code",
   "execution_count": null,
   "id": "75953e0d",
   "metadata": {},
   "outputs": [],
   "source": []
  }
 ],
 "metadata": {
  "kernelspec": {
   "display_name": "Python 3 (ipykernel)",
   "language": "python",
   "name": "python3"
  },
  "language_info": {
   "codemirror_mode": {
    "name": "ipython",
    "version": 3
   },
   "file_extension": ".py",
   "mimetype": "text/x-python",
   "name": "python",
   "nbconvert_exporter": "python",
   "pygments_lexer": "ipython3",
   "version": "3.9.6"
  }
 },
 "nbformat": 4,
 "nbformat_minor": 5
}
