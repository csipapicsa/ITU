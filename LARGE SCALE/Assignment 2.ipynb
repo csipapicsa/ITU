{
 "cells": [
  {
   "cell_type": "markdown",
   "id": "d8a7eee8",
   "metadata": {},
   "source": [
    "'''1. Analyze business.json to find the total number of reviews for all businesses. The output\n",
    "should be in the formof a Spark DataFrame with one value representing the count.'''"
   ]
  },
  {
   "cell_type": "markdown",
   "id": "147c1534",
   "metadata": {},
   "source": [
    "ssh gegy@130.226.142.166 -p 8022 -i sshkey\n",
    "pyspark"
   ]
  },
  {
   "cell_type": "code",
   "execution_count": null,
   "id": "e81bdfe4",
   "metadata": {},
   "outputs": [],
   "source": [
    "bdf = spark.read.json(\"/datasets/yelp/business.json\")\n",
    "\n",
    "# get the column names in the file\n",
    "\n",
    "bdf.agg({'review_count': 'sum'}).show()"
   ]
  },
  {
   "cell_type": "code",
   "execution_count": 3,
   "id": "3e6db110",
   "metadata": {},
   "outputs": [
    {
     "data": {
      "text/plain": [
       "'Analyze business.json to find all businesses that have received 5 stars and that have\\nbeen reviewed by 1000 or more users. The output should be in the formof DataFrame of\\n(name, stars, review count).'"
      ]
     },
     "execution_count": 3,
     "metadata": {},
     "output_type": "execute_result"
    }
   ],
   "source": [
    "'''Analyze business.json to find all businesses that have received 5 stars and that have\n",
    "been reviewed by 1000 or more users. The output should be in the formof DataFrame of\n",
    "(name, stars, review count).'''"
   ]
  },
  {
   "cell_type": "code",
   "execution_count": 4,
   "id": "2c8c9147",
   "metadata": {},
   "outputs": [
    {
     "ename": "NameError",
     "evalue": "name 'bdf' is not defined",
     "output_type": "error",
     "traceback": [
      "\u001b[1;31m---------------------------------------------------------------------------\u001b[0m",
      "\u001b[1;31mNameError\u001b[0m                                 Traceback (most recent call last)",
      "\u001b[1;32m~\\AppData\\Local\\Temp/ipykernel_16456/3652285480.py\u001b[0m in \u001b[0;36m<module>\u001b[1;34m\u001b[0m\n\u001b[1;32m----> 1\u001b[1;33m \u001b[0mbdft\u001b[0m \u001b[1;33m=\u001b[0m \u001b[0mbdf\u001b[0m\u001b[1;33m.\u001b[0m\u001b[0mfilter\u001b[0m\u001b[1;33m(\u001b[0m\u001b[1;34m'stars == 5 and review_count >= 1000'\u001b[0m\u001b[1;33m)\u001b[0m\u001b[1;33m\u001b[0m\u001b[1;33m\u001b[0m\u001b[0m\n\u001b[0m\u001b[0;32m      2\u001b[0m \u001b[1;33m\u001b[0m\u001b[0m\n\u001b[0;32m      3\u001b[0m \u001b[1;32mfrom\u001b[0m \u001b[0mpyspark\u001b[0m\u001b[1;33m.\u001b[0m\u001b[0msql\u001b[0m\u001b[1;33m.\u001b[0m\u001b[0mfunctions\u001b[0m \u001b[1;32mimport\u001b[0m \u001b[0mcol\u001b[0m\u001b[1;33m\u001b[0m\u001b[1;33m\u001b[0m\u001b[0m\n\u001b[0;32m      4\u001b[0m \u001b[1;33m\u001b[0m\u001b[0m\n\u001b[0;32m      5\u001b[0m \u001b[0mbdf\u001b[0m\u001b[1;33m.\u001b[0m\u001b[0mfilter\u001b[0m\u001b[1;33m(\u001b[0m\u001b[1;34m'stars == 5 and review_count >= 1000'\u001b[0m\u001b[1;33m)\u001b[0m\u001b[1;33m.\u001b[0m\u001b[0mselect\u001b[0m\u001b[1;33m(\u001b[0m\u001b[0mcol\u001b[0m\u001b[1;33m(\u001b[0m\u001b[1;34m\"name\"\u001b[0m\u001b[1;33m)\u001b[0m\u001b[1;33m,\u001b[0m\u001b[0mcol\u001b[0m\u001b[1;33m(\u001b[0m\u001b[1;34m\"stars\"\u001b[0m\u001b[1;33m)\u001b[0m\u001b[1;33m,\u001b[0m\u001b[0mcol\u001b[0m\u001b[1;33m(\u001b[0m\u001b[1;34m\"review_count\"\u001b[0m\u001b[1;33m)\u001b[0m\u001b[1;33m)\u001b[0m\u001b[1;33m.\u001b[0m\u001b[0mshow\u001b[0m\u001b[1;33m(\u001b[0m\u001b[1;33m)\u001b[0m\u001b[1;33m\u001b[0m\u001b[1;33m\u001b[0m\u001b[0m\n",
      "\u001b[1;31mNameError\u001b[0m: name 'bdf' is not defined"
     ]
    }
   ],
   "source": [
    "bdft = bdf.filter('stars == 5 and review_count >= 1000')\n",
    "\n",
    "from pyspark.sql.functions import col\n",
    "\n",
    "bdf.filter('stars == 5 and review_count >= 1000').select(col(\"name\"),col(\"stars\"),col(\"review_count\")).show()"
   ]
  },
  {
   "cell_type": "code",
   "execution_count": 5,
   "id": "45a26dd0",
   "metadata": {},
   "outputs": [
    {
     "data": {
      "text/plain": [
       "'Analyze user.json to find the influencerswho have writtenmore than 1000 reviews. The\\noutput should be in the formof DataFrame of user id.'"
      ]
     },
     "execution_count": 5,
     "metadata": {},
     "output_type": "execute_result"
    }
   ],
   "source": [
    "'''Analyze user.json to find the influencerswho have writtenmore than 1000 reviews. The\n",
    "output should be in the formof DataFrame of user id.'''"
   ]
  },
  {
   "cell_type": "code",
   "execution_count": 6,
   "id": "72d8d173",
   "metadata": {},
   "outputs": [
    {
     "ename": "NameError",
     "evalue": "name 'spark' is not defined",
     "output_type": "error",
     "traceback": [
      "\u001b[1;31m---------------------------------------------------------------------------\u001b[0m",
      "\u001b[1;31mNameError\u001b[0m                                 Traceback (most recent call last)",
      "\u001b[1;32m~\\AppData\\Local\\Temp/ipykernel_16456/2095000248.py\u001b[0m in \u001b[0;36m<module>\u001b[1;34m\u001b[0m\n\u001b[1;32m----> 1\u001b[1;33m \u001b[0mudf\u001b[0m \u001b[1;33m=\u001b[0m \u001b[0mspark\u001b[0m\u001b[1;33m.\u001b[0m\u001b[0mread\u001b[0m\u001b[1;33m.\u001b[0m\u001b[0mjson\u001b[0m\u001b[1;33m(\u001b[0m\u001b[1;34m\"/datasets/yelp/user.json\"\u001b[0m\u001b[1;33m)\u001b[0m\u001b[1;33m\u001b[0m\u001b[1;33m\u001b[0m\u001b[0m\n\u001b[0m\u001b[0;32m      2\u001b[0m \u001b[1;33m\u001b[0m\u001b[0m\n\u001b[0;32m      3\u001b[0m \u001b[0mudf\u001b[0m\u001b[1;33m.\u001b[0m\u001b[0mfilter\u001b[0m\u001b[1;33m(\u001b[0m\u001b[1;34m'review_count > 1000'\u001b[0m\u001b[1;33m)\u001b[0m\u001b[1;33m.\u001b[0m\u001b[0mselect\u001b[0m\u001b[1;33m(\u001b[0m\u001b[0mcol\u001b[0m\u001b[1;33m(\u001b[0m\u001b[1;34m\"user_id\"\u001b[0m\u001b[1;33m)\u001b[0m\u001b[1;33m)\u001b[0m\u001b[1;33m.\u001b[0m\u001b[0mshow\u001b[0m\u001b[1;33m(\u001b[0m\u001b[1;33m)\u001b[0m\u001b[1;33m\u001b[0m\u001b[1;33m\u001b[0m\u001b[0m\n",
      "\u001b[1;31mNameError\u001b[0m: name 'spark' is not defined"
     ]
    }
   ],
   "source": [
    "udf = spark.read.json(\"/datasets/yelp/user.json\")\n",
    "\n",
    "udf.filter('review_count > 1000').select(col(\"user_id\")).show()\n",
    "\n",
    "udfres = udf.filter('review_count > 1000').select(col(\"user_id\"))"
   ]
  },
  {
   "cell_type": "code",
   "execution_count": 7,
   "id": "9fa38892",
   "metadata": {},
   "outputs": [
    {
     "data": {
      "text/plain": [
       "'Analyze review.json, business.json, and a view created from your answer to Q3 to\\nfind the businesses that have been reviewed by more than 5 influencer users.'"
      ]
     },
     "execution_count": 7,
     "metadata": {},
     "output_type": "execute_result"
    }
   ],
   "source": [
    "'''Analyze review.json, business.json, and a view created from your answer to Q3 to\n",
    "find the businesses that have been reviewed by more than 5 influencer users.'''"
   ]
  },
  {
   "cell_type": "code",
   "execution_count": null,
   "id": "dc673241",
   "metadata": {},
   "outputs": [],
   "source": [
    "rdf = spark.read.json(\"/datasets/yelp/review.json\") # contains the reviews \n",
    "# rdf.schema.names\n",
    "# rdf business_id, review_id ,user_id\n",
    "# rdf.count() - 6685900 \n",
    "# bdf.count() - 192609 # business_id\n",
    "\n",
    "# udfr # 1420\n",
    "df_bus_merge = rdf.join(bdf,['business_id'],how='inner')\n",
    "# df_bus_merge.count() # 6685900\n",
    "# df_bus_merge.schema.names\n",
    "df_merged = df_bus_merge.join(udfres,['user_id'],how='inner')\n",
    "# df_merged.count() 133576\n",
    "df_merged_count = df_merged.groupBy('business_id').count()\n",
    "#\n",
    "df_merged_count.filter('count > 5').show()"
   ]
  },
  {
   "cell_type": "code",
   "execution_count": 8,
   "id": "225c6ce2",
   "metadata": {},
   "outputs": [
    {
     "data": {
      "text/plain": [
       "'Analyze review.json and user.json to find an ordered list of users based on the average\\nstar counts they have given in all their reviews.'"
      ]
     },
     "execution_count": 8,
     "metadata": {},
     "output_type": "execute_result"
    }
   ],
   "source": [
    "'''Analyze review.json and user.json to find an ordered list of users based on the average\n",
    "star counts they have given in all their reviews.'''"
   ]
  },
  {
   "cell_type": "code",
   "execution_count": null,
   "id": "2b795587",
   "metadata": {},
   "outputs": [],
   "source": [
    "# rdf.count() - 6685900 \n",
    "# udf.count() - 1637138\n",
    "# udf.schema.names # average_stars\n",
    "# udf.select(\"average_stars\").show()\n",
    "# I dont think the review.json is necceserry here since users df contains the average stars\n",
    "udf.select(\"average_stars\").show()\n",
    "u_temp = udf.sort(col(\"average_stars\").desc())\n",
    "# I made a new df since if you print it it looks like a mess\n",
    "u_temp.select(col(\"average_stars\"),col(\"user_id\")).show()"
   ]
  },
  {
   "cell_type": "code",
   "execution_count": null,
   "id": "d63939b1",
   "metadata": {},
   "outputs": [],
   "source": []
  },
  {
   "cell_type": "markdown",
   "id": "e44588a5",
   "metadata": {},
   "source": [
    "## 3.2.1 Data Exploration"
   ]
  },
  {
   "cell_type": "markdown",
   "id": "faa26ac8",
   "metadata": {},
   "source": [
    "What is the percentage of reviews containing a variant of the word \"authentic\"? How\n",
    "many reviews contain the string \"legitimate\" grouped by businesses type (type of cuisine)?"
   ]
  },
  {
   "attachments": {
    "image.png": {
     "image/png": "[encoded data removed]"
    }
   },
   "cell_type": "markdown",
   "id": "627bae3a",
   "metadata": {},
   "source": [
    "PROBLEM: No \"cusine type\"  or \"business type\" in the dataset\n",
    "![image.png](attachment:image.png)"
   ]
  },
  {
   "cell_type": "code",
   "execution_count": null,
   "id": "da5a69b5",
   "metadata": {},
   "outputs": [],
   "source": [
    "# a\n",
    "rdf = spark.read.json(\"/datasets/yelp/review.json\")\n",
    "rdf.createOrReplaceTempView(\"reviews\")\n",
    "bdf = spark.read.json(\"/datasets/yelp/business.json\")\n",
    "bdf.createOrReplaceTempView(\"business\")\n",
    "# example line \n",
    "rsql_df = spark.sql(\"SELECT * FROM reviews WHERE funny = 5\") # this is just an exaple\n",
    "rsql_df.select(col(\"funny\"),col(\"user_id\")).show()\n",
    "# Solution\n",
    "df1 = spark.sql(\"SELECT * FROM reviews\")\n",
    "df1.schema.names\n",
    "df2 = spark.sql(\"SELECT * FROM reviews WHERE text LIKE '%authentic%'\")\n",
    "# its super sloooooooowwwww, how can I add these to variables ? \n",
    "print(\"Ratio of reviews which contains 'authetnic' is \", df1.count() / df2.count())\n",
    "\n",
    "# solution 2 # its not gooooood\n",
    "all_reviews_count = spark.sql(\"SELECT count(*) FROM reviews\")\n",
    "auth_reviews_count = spark.sql(\"SELECT count(*) FROM reviews WHERE text LIKE '%authentic%'\")\n",
    "# still super sloooow \n",
    "t = spark.sql(\"SET @res = (SELECT count(*) FROM reviews)\")\n",
    "\n",
    "############################################################## b\n",
    "# merge\n",
    "df = rdf.join(bdf,['business_id'],how='inner')\n",
    "df.createOrReplaceTempView(\"rewBusiness\")\n",
    "# res is not good, since categories contains list of strings, so I dont know how should we split them by \"cusion type \"\n",
    "res = spark.sql(\"SELECT R.categories, count(R.review_id) FROM rewBusiness R WHERE R.text LIKE '%legitimate%' GROUP BY R.categories\")\n",
    "res = df3.agg({\"count(review_id)\":\"sum\"}).collect()\n",
    "print(res) #??? seems good."
   ]
  },
  {
   "cell_type": "code",
   "execution_count": 12,
   "id": "0f47362d",
   "metadata": {},
   "outputs": [
    {
     "data": {
      "text/plain": [
       "\"How many reviews contain the string 'legitimate' grouped by restaurant categories?\""
      ]
     },
     "execution_count": 12,
     "metadata": {},
     "output_type": "execute_result"
    }
   ],
   "source": [
    "\"How many reviews contain the string 'legitimate' grouped by restaurant categories?\"\n",
    "# since categories are a list of strings ( check above ) I dont know how should I handle this question"
   ]
  },
  {
   "cell_type": "code",
   "execution_count": null,
   "id": "6b1c7754",
   "metadata": {},
   "outputs": [],
   "source": []
  }
 ],
 "metadata": {
  "kernelspec": {
   "display_name": "Python 3 (ipykernel)",
   "language": "python",
   "name": "python3"
  },
  "language_info": {
   "codemirror_mode": {
    "name": "ipython",
    "version": 3
   },
   "file_extension": ".py",
   "mimetype": "text/x-python",
   "name": "python",
   "nbconvert_exporter": "python",
   "pygments_lexer": "ipython3",
   "version": "3.9.6"
  }
 },
 "nbformat": 4,
 "nbformat_minor": 5
}
