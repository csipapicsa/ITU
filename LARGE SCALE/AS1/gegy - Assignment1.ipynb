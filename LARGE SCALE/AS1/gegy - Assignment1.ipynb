{
 "cells": [
  {
   "cell_type": "markdown",
   "id": "743f47c8",
   "metadata": {},
   "source": [
    "# Import functions "
   ]
  },
  {
   "cell_type": "code",
   "execution_count": 69,
   "id": "e3e66cb1",
   "metadata": {},
   "outputs": [],
   "source": [
    "import imports as ii\n",
    "import functions as ff"
   ]
  },
  {
   "cell_type": "markdown",
   "id": "49d4c827",
   "metadata": {},
   "source": [
    "##  Read in, Preprocessing, Find best model, Predicting"
   ]
  },
  {
   "cell_type": "markdown",
   "id": "76d5ab7e",
   "metadata": {},
   "source": [
    "Throught the query one year data is loaded. Since KNeighborsRegressor has the best result compared to Linear regression and LTSM model, in this report the best model parameter search is focusiong only the hyperparameters of KN algo. \n",
    "\n",
    "Results are saved in the end, \"TODO\" list is defined in the end of the Notebook"
   ]
  },
  {
   "cell_type": "code",
   "execution_count": 75,
   "id": "571060ac",
   "metadata": {},
   "outputs": [
    {
     "name": "stdout",
     "output_type": "stream",
     "text": [
      "Query is running\n",
      "Dataframe cleaning is running\n",
      "Wind direction tranformer is running\n",
      "Grid Search is running\n",
      "Best parameter (CV score=0.717):\n",
      "{'KNN__algorithm': 'brute', 'KNN__n_neighbors': 17}\n",
      "Retrain, predict and store the results and the model\n",
      "Load latest forecasts, make a prediction of Generated Power\n",
      "Wind direction tranformer is running\n",
      "###### Predictions\n"
     ]
    },
    {
     "data": {
      "text/html": [
       "<div>\n",
       "<style scoped>\n",
       "    .dataframe tbody tr th:only-of-type {\n",
       "        vertical-align: middle;\n",
       "    }\n",
       "\n",
       "    .dataframe tbody tr th {\n",
       "        vertical-align: top;\n",
       "    }\n",
       "\n",
       "    .dataframe thead th {\n",
       "        text-align: right;\n",
       "    }\n",
       "</style>\n",
       "<table border=\"1\" class=\"dataframe\">\n",
       "  <thead>\n",
       "    <tr style=\"text-align: right;\">\n",
       "      <th></th>\n",
       "      <th>Direction</th>\n",
       "      <th>Lead_hours</th>\n",
       "      <th>Source_time</th>\n",
       "      <th>Speed</th>\n",
       "      <th>Angle</th>\n",
       "      <th>Generated Power Prediction</th>\n",
       "    </tr>\n",
       "    <tr>\n",
       "      <th>time</th>\n",
       "      <th></th>\n",
       "      <th></th>\n",
       "      <th></th>\n",
       "      <th></th>\n",
       "      <th></th>\n",
       "      <th></th>\n",
       "    </tr>\n",
       "  </thead>\n",
       "  <tbody>\n",
       "    <tr>\n",
       "      <th>2022-05-15 21:00:00+00:00</th>\n",
       "      <td>ESE</td>\n",
       "      <td>3</td>\n",
       "      <td>1652630400</td>\n",
       "      <td>7.15264</td>\n",
       "      <td>112.5</td>\n",
       "      <td>18.508797</td>\n",
       "    </tr>\n",
       "    <tr>\n",
       "      <th>2022-05-16 00:00:00+00:00</th>\n",
       "      <td>ESE</td>\n",
       "      <td>6</td>\n",
       "      <td>1652630400</td>\n",
       "      <td>7.15264</td>\n",
       "      <td>112.5</td>\n",
       "      <td>18.508797</td>\n",
       "    </tr>\n",
       "    <tr>\n",
       "      <th>2022-05-16 03:00:00+00:00</th>\n",
       "      <td>ESE</td>\n",
       "      <td>9</td>\n",
       "      <td>1652630400</td>\n",
       "      <td>8.04672</td>\n",
       "      <td>112.5</td>\n",
       "      <td>19.605044</td>\n",
       "    </tr>\n",
       "    <tr>\n",
       "      <th>2022-05-16 06:00:00+00:00</th>\n",
       "      <td>E</td>\n",
       "      <td>12</td>\n",
       "      <td>1652630400</td>\n",
       "      <td>8.94080</td>\n",
       "      <td>90.0</td>\n",
       "      <td>19.774609</td>\n",
       "    </tr>\n",
       "    <tr>\n",
       "      <th>2022-05-16 09:00:00+00:00</th>\n",
       "      <td>E</td>\n",
       "      <td>15</td>\n",
       "      <td>1652630400</td>\n",
       "      <td>11.17600</td>\n",
       "      <td>90.0</td>\n",
       "      <td>22.645102</td>\n",
       "    </tr>\n",
       "  </tbody>\n",
       "</table>\n",
       "</div>"
      ],
      "text/plain": [
       "                          Direction Lead_hours  Source_time     Speed  Angle  \\\n",
       "time                                                                           \n",
       "2022-05-15 21:00:00+00:00       ESE          3   1652630400   7.15264  112.5   \n",
       "2022-05-16 00:00:00+00:00       ESE          6   1652630400   7.15264  112.5   \n",
       "2022-05-16 03:00:00+00:00       ESE          9   1652630400   8.04672  112.5   \n",
       "2022-05-16 06:00:00+00:00         E         12   1652630400   8.94080   90.0   \n",
       "2022-05-16 09:00:00+00:00         E         15   1652630400  11.17600   90.0   \n",
       "\n",
       "                           Generated Power Prediction  \n",
       "time                                                   \n",
       "2022-05-15 21:00:00+00:00                   18.508797  \n",
       "2022-05-16 00:00:00+00:00                   18.508797  \n",
       "2022-05-16 03:00:00+00:00                   19.605044  \n",
       "2022-05-16 06:00:00+00:00                   19.774609  \n",
       "2022-05-16 09:00:00+00:00                   22.645102  "
      ]
     },
     "metadata": {},
     "output_type": "display_data"
    },
    {
     "name": "stdout",
     "output_type": "stream",
     "text": [
      " R2 score of the loaded model is 0.70 \n"
     ]
    }
   ],
   "source": [
    "### Get last x days of data\n",
    "days = 365\n",
    "\n",
    "gen_df, wind_df = ff.query(days)\n",
    "\n",
    "### get rid of non used columns and null values\n",
    "gen_df, wind_df = ff.clean_df(gen_df, wind_df)\n",
    "\n",
    "### Aggregate gen_df for 3 hours by mean\n",
    "energy = ff.aggregate(gen_df)\n",
    "\n",
    "### transform wind directions strings into int\n",
    "wind_df = ff.wind_direction_transformer(wind_df)\n",
    "\n",
    "### merge dataframes\n",
    "data = energy.merge(wind_df, on='time')\n",
    "\n",
    "### data_finalizer\n",
    "final_data = ff.data_finalizer(data)\n",
    "\n",
    "### make a train/test split\n",
    "X = final_data[['Speed', 'Angle']]\n",
    "Y = final_data['Energy']\n",
    "x_train, x_test, y_train, y_test = ii.train_test_split(X,Y, test_size=.25, random_state=420)\n",
    "\n",
    "### Searching best params\n",
    "print(\"Grid Search is running\")\n",
    "search = ii.GridSearchCV(ff.pipe, ff.param_grid, n_jobs=4)\n",
    "search.fit(x_train, y_train)\n",
    "print(\"Best parameter (CV score=%0.3f):\" % search.best_score_)\n",
    "print(search.best_params_)\n",
    "algo, neighbours = search.best_params_.values()\n",
    "\n",
    "### use best parameters\n",
    "print(\"Retrain, predict and store the results and the model\")\n",
    "ff.pipe.set_params(KNN__n_neighbors=neighbours,KNN__algorithm=algo)\n",
    "model = ff.pipe.fit(x_train, y_train)\n",
    "\n",
    "### Get newest data, predict, and store the model\n",
    "print(\"Load latest forecasts, make a prediction of Generated Power\")\n",
    "forecast, x_forecast = ff.load_forecast()\n",
    "result = model.predict(x_forecast)\n",
    "forecast[\"Generated Power Prediction\"] = result\n",
    "print(\"###### Predictions\")\n",
    "display(forecast[0:5])\n",
    "\n",
    "### SAVE predictions\n",
    "ff.save_predictions(forecast)\n",
    "\n",
    "### SAVE MODEL\n",
    "time = ff.time()\n",
    "ii.pickle.dump(model,open(\"models/model\"+time+\".p\", \"wb\" ) )\n",
    "model = ii.pickle.load( open( \"models/model\"+time+\".p\", \"rb\" ) )\n",
    "preds = model.predict(x_test)\n",
    "\n",
    "### R2 score for the test with the loaded model:\n",
    "print(\" R2 score of the loaded model is %0.2f \"% ii.r2_score(y_test, preds))"
   ]
  },
  {
   "cell_type": "markdown",
   "id": "9184822c",
   "metadata": {},
   "source": [
    "## TODO: Load latest model, compare the predictions from the past with the actual values"
   ]
  },
  {
   "cell_type": "code",
   "execution_count": 74,
   "id": "d9cba615",
   "metadata": {},
   "outputs": [
    {
     "name": "stdout",
     "output_type": "stream",
     "text": [
      "Query is running\n",
      "Dataframe cleaning is running\n"
     ]
    },
    {
     "data": {
      "text/html": [
       "<div>\n",
       "<style scoped>\n",
       "    .dataframe tbody tr th:only-of-type {\n",
       "        vertical-align: middle;\n",
       "    }\n",
       "\n",
       "    .dataframe tbody tr th {\n",
       "        vertical-align: top;\n",
       "    }\n",
       "\n",
       "    .dataframe thead th {\n",
       "        text-align: right;\n",
       "    }\n",
       "</style>\n",
       "<table border=\"1\" class=\"dataframe\">\n",
       "  <thead>\n",
       "    <tr style=\"text-align: right;\">\n",
       "      <th></th>\n",
       "      <th></th>\n",
       "      <th>Total Average</th>\n",
       "    </tr>\n",
       "    <tr>\n",
       "      <th>Date</th>\n",
       "      <th>Hour</th>\n",
       "      <th></th>\n",
       "    </tr>\n",
       "  </thead>\n",
       "  <tbody>\n",
       "    <tr>\n",
       "      <th rowspan=\"5\" valign=\"top\">2022-05-15</th>\n",
       "      <th>15</th>\n",
       "      <td>19.685250</td>\n",
       "    </tr>\n",
       "    <tr>\n",
       "      <th>16</th>\n",
       "      <td>21.243250</td>\n",
       "    </tr>\n",
       "    <tr>\n",
       "      <th>17</th>\n",
       "      <td>23.919767</td>\n",
       "    </tr>\n",
       "    <tr>\n",
       "      <th>18</th>\n",
       "      <td>23.913750</td>\n",
       "    </tr>\n",
       "    <tr>\n",
       "      <th>19</th>\n",
       "      <td>25.500143</td>\n",
       "    </tr>\n",
       "  </tbody>\n",
       "</table>\n",
       "</div>"
      ],
      "text/plain": [
       "                 Total Average\n",
       "Date       Hour               \n",
       "2022-05-15 15        19.685250\n",
       "           16        21.243250\n",
       "           17        23.919767\n",
       "           18        23.913750\n",
       "           19        25.500143"
      ]
     },
     "metadata": {},
     "output_type": "display_data"
    }
   ],
   "source": [
    "# Load latest data\n",
    "days = 3\n",
    "\n",
    "gen_df, wind_df = ff.query(days)\n",
    "gen_df, wind_df = ff.clean_df(gen_df, wind_df)\n",
    "\n",
    "# Averaging\n",
    "gen_df[\"Date\"] = gen_df.index.date\n",
    "gen_df[\"Hour\"] = gen_df.index.hour\n",
    "\n",
    "gen_df_av = ii.pd.DataFrame()\n",
    "gen_df_av[\"Total Average\"] = gen_df.groupby([\"Date\",\"Hour\"]).mean()\n",
    "display(gen_df_av.tail())"
   ]
  },
  {
   "cell_type": "markdown",
   "id": "9c8935ea",
   "metadata": {},
   "source": [
    "#### GET The latest model\n",
    "#### Load all of the saved predictions in PANDAS\n",
    "#### Merge them, limit it for the latest predictions\n",
    "#### compare the real data with the predicted ones"
   ]
  }
 ],
 "metadata": {
  "kernelspec": {
   "display_name": "Python 3 (ipykernel)",
   "language": "python",
   "name": "python3"
  },
  "language_info": {
   "codemirror_mode": {
    "name": "ipython",
    "version": 3
   },
   "file_extension": ".py",
   "mimetype": "text/x-python",
   "name": "python",
   "nbconvert_exporter": "python",
   "pygments_lexer": "ipython3",
   "version": "3.9.6"
  }
 },
 "nbformat": 4,
 "nbformat_minor": 5
}
