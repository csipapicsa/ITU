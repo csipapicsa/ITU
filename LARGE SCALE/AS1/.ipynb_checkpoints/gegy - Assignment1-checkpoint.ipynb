{
 "cells": [
  {
   "cell_type": "markdown",
   "id": "743f47c8",
   "metadata": {},
   "source": [
    "# Import functions "
   ]
  },
  {
   "cell_type": "code",
   "execution_count": 1,
   "id": "e3e66cb1",
   "metadata": {},
   "outputs": [],
   "source": [
    "import imports as ii\n",
    "import functions as ff"
   ]
  },
  {
   "cell_type": "markdown",
   "id": "49d4c827",
   "metadata": {},
   "source": [
    "##  Read in, Preprocessing, Find best model, Predicting"
   ]
  },
  {
   "cell_type": "markdown",
   "id": "76d5ab7e",
   "metadata": {},
   "source": [
    "Throught the query one year data is loaded. Since KNeighborsRegressor has the best result compared to Linear regression and LTSM model, in this report the best model parameter search is focusiong only the hyperparameters of KN algo. \n",
    "\n",
    "Results are saved in the end, \"TODO\" list is defined in the end of the Notebook"
   ]
  },
  {
   "cell_type": "code",
   "execution_count": 4,
   "id": "571060ac",
   "metadata": {},
   "outputs": [
    {
     "name": "stdout",
     "output_type": "stream",
     "text": [
      "Query is running\n",
      "Dataframe cleaning is running\n",
      "Wind direction tranformer is running\n",
      "Grid Search is running\n",
      "Best parameter (CV score=0.703):\n",
      "{'KNN__algorithm': 'brute', 'KNN__n_neighbors': 16}\n",
      "Retrain, predict and store the results and the model\n",
      "Load latest forecasts, make a prediction of Generated Power\n",
      "Wind direction tranformer is running\n",
      "###### Predictions\n"
     ]
    },
    {
     "data": {
      "text/html": [
       "<div>\n",
       "<style scoped>\n",
       "    .dataframe tbody tr th:only-of-type {\n",
       "        vertical-align: middle;\n",
       "    }\n",
       "\n",
       "    .dataframe tbody tr th {\n",
       "        vertical-align: top;\n",
       "    }\n",
       "\n",
       "    .dataframe thead th {\n",
       "        text-align: right;\n",
       "    }\n",
       "</style>\n",
       "<table border=\"1\" class=\"dataframe\">\n",
       "  <thead>\n",
       "    <tr style=\"text-align: right;\">\n",
       "      <th></th>\n",
       "      <th>Direction</th>\n",
       "      <th>Lead_hours</th>\n",
       "      <th>Source_time</th>\n",
       "      <th>Speed</th>\n",
       "      <th>Angle</th>\n",
       "      <th>Generated Power Prediction</th>\n",
       "    </tr>\n",
       "    <tr>\n",
       "      <th>time</th>\n",
       "      <th></th>\n",
       "      <th></th>\n",
       "      <th></th>\n",
       "      <th></th>\n",
       "      <th></th>\n",
       "      <th></th>\n",
       "    </tr>\n",
       "  </thead>\n",
       "  <tbody>\n",
       "    <tr>\n",
       "      <th>2022-05-15 18:00:00+00:00</th>\n",
       "      <td>SE</td>\n",
       "      <td>4</td>\n",
       "      <td>1652616000</td>\n",
       "      <td>8.04672</td>\n",
       "      <td>135.0</td>\n",
       "      <td>18.380516</td>\n",
       "    </tr>\n",
       "    <tr>\n",
       "      <th>2022-05-15 21:00:00+00:00</th>\n",
       "      <td>ESE</td>\n",
       "      <td>7</td>\n",
       "      <td>1652616000</td>\n",
       "      <td>7.15264</td>\n",
       "      <td>112.5</td>\n",
       "      <td>18.292234</td>\n",
       "    </tr>\n",
       "    <tr>\n",
       "      <th>2022-05-16 00:00:00+00:00</th>\n",
       "      <td>SE</td>\n",
       "      <td>10</td>\n",
       "      <td>1652616000</td>\n",
       "      <td>7.15264</td>\n",
       "      <td>135.0</td>\n",
       "      <td>13.758970</td>\n",
       "    </tr>\n",
       "    <tr>\n",
       "      <th>2022-05-16 03:00:00+00:00</th>\n",
       "      <td>ESE</td>\n",
       "      <td>13</td>\n",
       "      <td>1652616000</td>\n",
       "      <td>8.04672</td>\n",
       "      <td>112.5</td>\n",
       "      <td>20.236140</td>\n",
       "    </tr>\n",
       "    <tr>\n",
       "      <th>2022-05-16 06:00:00+00:00</th>\n",
       "      <td>ESE</td>\n",
       "      <td>16</td>\n",
       "      <td>1652616000</td>\n",
       "      <td>8.94080</td>\n",
       "      <td>112.5</td>\n",
       "      <td>24.357773</td>\n",
       "    </tr>\n",
       "  </tbody>\n",
       "</table>\n",
       "</div>"
      ],
      "text/plain": [
       "                          Direction Lead_hours  Source_time    Speed  Angle  \\\n",
       "time                                                                          \n",
       "2022-05-15 18:00:00+00:00        SE          4   1652616000  8.04672  135.0   \n",
       "2022-05-15 21:00:00+00:00       ESE          7   1652616000  7.15264  112.5   \n",
       "2022-05-16 00:00:00+00:00        SE         10   1652616000  7.15264  135.0   \n",
       "2022-05-16 03:00:00+00:00       ESE         13   1652616000  8.04672  112.5   \n",
       "2022-05-16 06:00:00+00:00       ESE         16   1652616000  8.94080  112.5   \n",
       "\n",
       "                           Generated Power Prediction  \n",
       "time                                                   \n",
       "2022-05-15 18:00:00+00:00                   18.380516  \n",
       "2022-05-15 21:00:00+00:00                   18.292234  \n",
       "2022-05-16 00:00:00+00:00                   13.758970  \n",
       "2022-05-16 03:00:00+00:00                   20.236140  \n",
       "2022-05-16 06:00:00+00:00                   24.357773  "
      ]
     },
     "metadata": {},
     "output_type": "display_data"
    },
    {
     "name": "stdout",
     "output_type": "stream",
     "text": [
      " R2 score of the loaded model is :  0.7265840802413694\n"
     ]
    }
   ],
   "source": [
    "### Get last x days of data\n",
    "days = 365\n",
    "\n",
    "gen_df, wind_df = ff.query(days)\n",
    "\n",
    "### get rid of non used columns and null values\n",
    "gen_df, wind_df = ff.clean_df(gen_df, wind_df)\n",
    "\n",
    "### Aggregate gen_df for 3 hours by mean\n",
    "energy = ff.aggregate(gen_df)\n",
    "\n",
    "### transform wind directions strings into int\n",
    "wind_df = ff.wind_direction_transformer(wind_df)\n",
    "\n",
    "### merge dataframes\n",
    "data = energy.merge(wind_df, on='time')\n",
    "\n",
    "### data_finalizer\n",
    "final_data = ff.data_finalizer(data)\n",
    "\n",
    "### make a train/test split\n",
    "X = final_data[['Speed', 'Angle']]\n",
    "Y = final_data['Energy']\n",
    "x_train, x_test, y_train, y_test = ii.train_test_split(X,Y, test_size=.25, random_state=420)\n",
    "\n",
    "### Searching best params\n",
    "print(\"Grid Search is running\")\n",
    "search = ii.GridSearchCV(ff.pipe, ff.param_grid, n_jobs=4)\n",
    "search.fit(x_train, y_train)\n",
    "print(\"Best parameter (CV score=%0.3f):\" % search.best_score_)\n",
    "print(search.best_params_)\n",
    "algo, neighbours = search.best_params_.values()\n",
    "\n",
    "### use best parameters\n",
    "print(\"Retrain, predict and store the results and the model\")\n",
    "ff.pipe.set_params(KNN__n_neighbors=neighbours,KNN__algorithm=algo)\n",
    "model = ff.pipe.fit(x_train, y_train)\n",
    "\n",
    "### Get newest data, predict, and store the model\n",
    "print(\"Load latest forecasts, make a prediction of Generated Power\")\n",
    "forecast, x_forecast = ff.load_forecast()\n",
    "result = model.predict(x_forecast)\n",
    "forecast[\"Generated Power Prediction\"] = result\n",
    "print(\"###### Predictions\")\n",
    "display(forecast[0:5])\n",
    "\n",
    "### SAVE predictions\n",
    "ff.save_predictions(forecast)\n",
    "\n",
    "### SAVE MODEL\n",
    "time = ff.time()\n",
    "ii.pickle.dump(model,open(\"models/model\"+time+\".p\", \"wb\" ) )\n",
    "model = ii.pickle.load( open( \"models/model\"+time+\".p\", \"rb\" ) )\n",
    "preds = model.predict(x_test)\n",
    "\n",
    "### R2 score for the test with the loaded model:\n",
    "print(\" R2 score of the loaded model is : \", ii.r2_score(y_test, preds))"
   ]
  },
  {
   "cell_type": "markdown",
   "id": "9184822c",
   "metadata": {},
   "source": [
    "## TODO: Load latest model, compare the predictions from the past with the actual values"
   ]
  },
  {
   "cell_type": "markdown",
   "id": "9c8935ea",
   "metadata": {},
   "source": [
    "#### GET The latest model\n",
    "#### Load all of the saved predictions in PANDAS\n",
    "#### Merge them, limit it for the latest predictions\n",
    "#### compare the real data with the predicted ones"
   ]
  },
  {
   "cell_type": "code",
   "execution_count": null,
   "id": "e76f5a23",
   "metadata": {},
   "outputs": [],
   "source": []
  }
 ],
 "metadata": {
  "kernelspec": {
   "display_name": "Python 3 (ipykernel)",
   "language": "python",
   "name": "python3"
  },
  "language_info": {
   "codemirror_mode": {
    "name": "ipython",
    "version": 3
   },
   "file_extension": ".py",
   "mimetype": "text/x-python",
   "name": "python",
   "nbconvert_exporter": "python",
   "pygments_lexer": "ipython3",
   "version": "3.9.6"
  }
 },
 "nbformat": 4,
 "nbformat_minor": 5
}
